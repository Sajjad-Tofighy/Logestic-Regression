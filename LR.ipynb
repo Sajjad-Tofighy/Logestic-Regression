{
 "cells": [
  {
   "cell_type": "markdown",
   "metadata": {},
   "source": [
    "# Part 1 (read & preprocess data)"
   ]
  },
  {
   "cell_type": "markdown",
   "metadata": {},
   "source": [
    "## question 1\n",
    "Installing libraries."
   ]
  },
  {
   "cell_type": "code",
   "execution_count": null,
   "metadata": {},
   "outputs": [],
   "source": [
    "import numpy as np\n",
    "import h5py\n",
    "import skimage\n",
    "import matplotlib.pyplot as plt\n",
    "%matplotlib inline"
   ]
  },
  {
   "cell_type": "code",
   "execution_count": null,
   "metadata": {},
   "outputs": [],
   "source": [
    "def load_dataset():\n",
    "\n",
    "    train_dataset = h5py.File('data/train.h5', \"r\")\n",
    "    train_x = np.array(train_dataset[\"train_set_x\"][:])\n",
    "    train_y = np.array(train_dataset[\"train_set_y\"][:])\n",
    "    train_y = train_y.reshape((1, train_y.shape[0]))\n",
    "\n",
    "    test_dataset = h5py.File('data/test.h5', \"r\")\n",
    "    test_x = np.array(test_dataset[\"test_set_x\"][:])\n",
    "    test_y = np.array(test_dataset[\"test_set_y\"][:])\n",
    "    test_y = test_y.reshape((1, test_y.shape[0]))\n",
    "    classes = np.array(test_dataset[\"list_classes\"][:])\n",
    "\n",
    "    return train_x, train_y, test_x, test_y, classes"
   ]
  },
  {
   "cell_type": "markdown",
   "metadata": {},
   "source": [
    "## question 2\n",
    "Print out number of samples in train and test datasets and also dimension of each image."
   ]
  },
  {
   "cell_type": "code",
   "execution_count": null,
   "metadata": {},
   "outputs": [],
   "source": [
    "train_x, train_y, test_x, test_y, classes = load_dataset()"
   ]
  },
  {
   "cell_type": "code",
   "execution_count": null,
   "metadata": {},
   "outputs": [],
   "source": [
    "# start of your code\n",
    "\n",
    "# end of your code"
   ]
  },
  {
   "cell_type": "markdown",
   "metadata": {},
   "source": [
    "## question 3\n",
    "\n",
    "Show a random image from train and test dataset using matplotlib."
   ]
  },
  {
   "cell_type": "code",
   "execution_count": null,
   "metadata": {},
   "outputs": [],
   "source": [
    "# start of your code\n",
    "\n",
    "# end of your code"
   ]
  },
  {
   "cell_type": "markdown",
   "metadata": {},
   "source": [
    "## question 4\n",
    "\n",
    "Preprocess and normalize images. (Don't rename variables.)"
   ]
  },
  {
   "cell_type": "code",
   "execution_count": null,
   "metadata": {},
   "outputs": [],
   "source": [
    "# start of your code\n",
    "train_x_normalized = ?\n",
    "test_x_normalized = ?\n",
    "# end of your code\n",
    "\n",
    "assert train_x_normalized.shape[0] == 12288\n",
    "assert train_x_normalized.shape[1] == 209\n",
    "assert test_x_normalized.shape[0] == 12288\n",
    "assert test_x_normalized.shape[1] == 50\n"
   ]
  },
  {
   "cell_type": "markdown",
   "metadata": {},
   "source": [
    "___\n",
    "# Part 2 (building model)"
   ]
  },
  {
   "cell_type": "markdown",
   "metadata": {},
   "source": [
    "## question 5\n",
    "\n",
    "Implement sigmoid function."
   ]
  },
  {
   "cell_type": "code",
   "execution_count": null,
   "metadata": {},
   "outputs": [],
   "source": [
    "# Argument:\n",
    "# z -- is a scalar or numpy array of any size.\n",
    "\n",
    "# Returns:\n",
    "# sigmoid(z)\n",
    "\n",
    "def sigmoid(z):\n",
    "    \n",
    "    # start of your code\n",
    "    \n",
    "    # end of your code"
   ]
  },
  {
   "cell_type": "code",
   "execution_count": null,
   "metadata": {},
   "outputs": [],
   "source": [
    "# testing your function\n",
    "\n",
    "t = sigmoid(np.array([0]))\n",
    "assert t[0]==0.5"
   ]
  },
  {
   "cell_type": "markdown",
   "metadata": {},
   "source": [
    "## question 6\n",
    "\n",
    "Implement initialize_params function."
   ]
  },
  {
   "cell_type": "code",
   "execution_count": null,
   "metadata": {},
   "outputs": [],
   "source": [
    "# Argument:\n",
    "# dim -- size of the w vector we want\n",
    "    \n",
    "# Returns:\n",
    "# w -- initialized vector of shape (dim, 1)\n",
    "# b -- initialized scalar (corresponds to the bias)\n",
    "\n",
    "def initialize_params(dim):\n",
    "    \n",
    "    # start of your code\n",
    "    \n",
    "    # end of your code\n",
    "    \n",
    "    return w, b"
   ]
  },
  {
   "cell_type": "code",
   "execution_count": null,
   "metadata": {},
   "outputs": [],
   "source": [
    "# testing your function\n",
    "\n",
    "dim = 10\n",
    "w, b = initialize_params(dim)\n",
    "\n",
    "assert(w.shape == (dim, 1))\n",
    "assert(isinstance(b, float) or isinstance(b, int))"
   ]
  },
  {
   "cell_type": "markdown",
   "metadata": {},
   "source": [
    "## question 7\n",
    "\n",
    "Implement progate function. (forward and backward propagation in order to learn parameters)"
   ]
  },
  {
   "cell_type": "code",
   "execution_count": null,
   "metadata": {},
   "outputs": [],
   "source": [
    "# Arguments:\n",
    "# X -- data of size (num_px * num_px * 3, number of examples)\n",
    "# Y -- true \"label\" vector (containing 0 if non-cat, 1 if cat) of size (1, number of examples)\n",
    "# w -- weights, a numpy array of size (num_px * num_px * 3, 1)\n",
    "# b -- bias, a scalar\n",
    "    \n",
    "# Returns:\n",
    "# cost -- negative log-likelihood cost for logistic regression\n",
    "# dw -- gradient of the loss with respect to w, thus same shape as w\n",
    "# db -- gradient of the loss with respect to b, thus same shape as b\n",
    "\n",
    "def propagate(X, Y, w, b):\n",
    "    \n",
    "    m = X.shape[1]\n",
    "    \n",
    "    # forward propagation (from X to cost)\n",
    "    # start of your code (2 lines of code is enough!)\n",
    "    \n",
    "    # end of your code\n",
    "    \n",
    "    # backward propagation (dw, db)\n",
    "    # start of your code  (2 lines of code is enough!)\n",
    "    \n",
    "    # end of your code\n",
    "\n",
    "    cost = np.squeeze(cost)\n",
    "    grads = {\"dw\": dw, \"db\": db}\n",
    "    \n",
    "    return cost, grads"
   ]
  },
  {
   "cell_type": "code",
   "execution_count": null,
   "metadata": {},
   "outputs": [],
   "source": [
    "X, Y, w, b = np.array([[1,2],[3,4]]), np.array([[0, 1]]), np.array([[1],[2]]), 2\n",
    "cost, grads = propagate(X, Y, w, b)\n",
    "print (\"dw = \" + str(grads[\"dw\"]))\n",
    "print (\"db = \" + str(grads[\"db\"]))\n",
    "print (\"cost = \" + str(cost))"
   ]
  },
  {
   "cell_type": "markdown",
   "metadata": {},
   "source": [
    "Expected output:\n",
    "    \n",
    "dw = [[0.49993216]\n",
    "      [1.49980262]]\n",
    "      \n",
    "db = [0.49993523]\n",
    "\n",
    "cost = 4.500064773191271"
   ]
  },
  {
   "cell_type": "markdown",
   "metadata": {},
   "source": [
    "## question 8\n",
    "\n",
    "Implement optimize function using gradient descent.\n",
    "\n"
   ]
  },
  {
   "cell_type": "code",
   "execution_count": null,
   "metadata": {},
   "outputs": [],
   "source": [
    "# Arguments:\n",
    "# X -- data of shape (num_px * num_px * 3, number of examples)\n",
    "# Y -- true \"label\" vector (containing 0 if non-cat, 1 if cat), of shape (1, number of examples)\n",
    "# w -- weights, a numpy array of size (num_px * num_px * 3, 1)\n",
    "# b -- bias, a scalar\n",
    "# num_iterations -- number of iterations of the optimization loop\n",
    "# learning_rate -- learning rate of the gradient descent update rule\n",
    "\n",
    "# Returns:\n",
    "# params -- learned parameters (final value for w and b)\n",
    "\n",
    "def optimize(X, Y, w, b, num_iterations=100, learning_rate=0.009):\n",
    "    \n",
    "    costs = []\n",
    "    for i in range(num_iterations):\n",
    "        \n",
    "        cost, grads = propagate(X=X, Y=Y, w=w, b=b)\n",
    "        dw = grads[\"dw\"]\n",
    "        db = grads[\"db\"]\n",
    "        costs.append(cost)\n",
    "        \n",
    "        # update parameters\n",
    "        # start of your code (2 lines of code is enough!)\n",
    "    \n",
    "        # end of your code\n",
    "\n",
    "        \n",
    "    # start of your code (plot cost / iteration)\n",
    "    \n",
    "    # end of your code\n",
    "    \n",
    "    params = {\"w\": w, \"b\": b}\n",
    "    return params"
   ]
  },
  {
   "cell_type": "code",
   "execution_count": null,
   "metadata": {},
   "outputs": [],
   "source": [
    "params = optimize(X, Y, w, b)"
   ]
  },
  {
   "cell_type": "markdown",
   "metadata": {},
   "source": [
    "## question 9\n",
    "\n",
    "Implement predict function.\n",
    "\n"
   ]
  },
  {
   "cell_type": "code",
   "execution_count": null,
   "metadata": {},
   "outputs": [],
   "source": [
    "# Arguments:\n",
    "# X -- data of size (num_px * num_px * 3, number of examples)\n",
    "# w -- weights, a numpy array of size (num_px * num_px * 3, 1)\n",
    "# b -- bias, a scalar\n",
    "\n",
    "# Returns:\n",
    "# predicted_Y -- a numpy array (vector) containing all predictions (0/1) for the examples in X\n",
    "\n",
    "def predict(X, w, b):\n",
    "    \n",
    "    m = X.shape[1]\n",
    "    predicted_Y = np.zeros((1,m))\n",
    "    w = w.reshape(X.shape[0], 1)\n",
    "    \n",
    "    # Compute vector \"A\" predicting the probabilities of a cat being present in the picture\n",
    "    # start of your code\n",
    "\n",
    "    # end of your code\n",
    "    \n",
    "    assert(predicted_Y.shape == (1, m))\n",
    "    return predicted_Y"
   ]
  },
  {
   "cell_type": "markdown",
   "metadata": {},
   "source": [
    "___\n",
    "# Part 3 (evaluation)"
   ]
  },
  {
   "cell_type": "code",
   "execution_count": null,
   "metadata": {},
   "outputs": [],
   "source": [
    "def model(X_train, Y_train, X_test, Y_test, num_iterations = 2000, learning_rate = 0.5):\n",
    "\n",
    "    w, b = initialize_params(X_train.shape[0])\n",
    "    params = optimize(X_train, Y_train, w, b, num_iterations, learning_rate)\n",
    "    \n",
    "    w = params[\"w\"]\n",
    "    b = params[\"b\"]\n",
    "    \n",
    "    predicted_Y_train = predict(X_train, w, b)\n",
    "    predicted_Y_test = predict(X_test, w, b)\n",
    "\n",
    "    print(\"train accuracy: {} %\".format(100 - np.mean(np.abs(predicted_Y_train - Y_train)) * 100))\n",
    "    print(\"test accuracy: {} %\".format(100 - np.mean(np.abs(predicted_Y_test - Y_test)) * 100))\n",
    "\n",
    "    \n",
    "    d = {\"predicted_Y_train\": predicted_Y_train, \n",
    "         \"predicted_Y_test\" : predicted_Y_test, \n",
    "         \"w\" : w, \"b\" : b,\n",
    "         \"learning_rate\" : learning_rate,\n",
    "         \"num_iterations\": num_iterations}\n",
    "    return d"
   ]
  },
  {
   "cell_type": "markdown",
   "metadata": {},
   "source": [
    "## question 10\n"
   ]
  },
  {
   "cell_type": "code",
   "execution_count": null,
   "metadata": {},
   "outputs": [],
   "source": [
    "d = model(train_x_normalized, train_y, test_x_normalized, test_y, num_iterations = 2000, learning_rate = 0.005)"
   ]
  },
  {
   "cell_type": "markdown",
   "metadata": {},
   "source": [
    "## question 11\n",
    "Predict and plot for 5 random images of test dataset."
   ]
  },
  {
   "cell_type": "code",
   "execution_count": null,
   "metadata": {},
   "outputs": [],
   "source": [
    "# start of your code\n",
    "\n",
    "# end of your code"
   ]
  },
  {
   "cell_type": "markdown",
   "metadata": {},
   "source": [
    "## question 12\n",
    "Predict and plot for test.jpg image."
   ]
  },
  {
   "cell_type": "code",
   "execution_count": null,
   "metadata": {},
   "outputs": [],
   "source": [
    "# start of your code\n",
    "\n",
    "# end of your code"
   ]
  }
 ],
 "metadata": {
  "kernelspec": {
   "display_name": "Python 3",
   "language": "python",
   "name": "python3"
  },
  "language_info": {
   "codemirror_mode": {
    "name": "ipython",
    "version": 3
   },
   "file_extension": ".py",
   "mimetype": "text/x-python",
   "name": "python",
   "nbconvert_exporter": "python",
   "pygments_lexer": "ipython3",
   "version": "3.7.1"
  }
 },
 "nbformat": 4,
 "nbformat_minor": 2
}

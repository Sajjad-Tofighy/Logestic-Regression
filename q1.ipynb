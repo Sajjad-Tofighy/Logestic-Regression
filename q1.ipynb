{
 "cells": [
  {
   "cell_type": "code",
   "execution_count": 1,
   "metadata": {},
   "outputs": [],
   "source": [
    "import numpy as np"
   ]
  },
  {
   "cell_type": "code",
   "execution_count": 2,
   "metadata": {
    "scrolled": true
   },
   "outputs": [
    {
     "name": "stdout",
     "output_type": "stream",
     "text": [
      "q1-1\n",
      "[[-1.4393227   0.10893212 -0.02877966]\n",
      " [ 0.34425901 -0.01989261  0.6541101 ]\n",
      " [ 0.9737709  -1.87746134 -0.29620171]\n",
      " [-0.08147097 -0.16050659  0.04604445]]\n"
     ]
    }
   ],
   "source": [
    "print ('q1-1')\n",
    "A = np.random.randn(4, 3)\n",
    "print(A)"
   ]
  },
  {
   "cell_type": "code",
   "execution_count": 3,
   "metadata": {},
   "outputs": [
    {
     "name": "stdout",
     "output_type": "stream",
     "text": [
      "q1-2\n",
      "[[ 1.36343552]\n",
      " [ 0.92179925]\n",
      " [-0.38837113]\n",
      " [-1.37590676]]\n"
     ]
    }
   ],
   "source": [
    "print ('q1-2')\n",
    "x = np.random.randn(4,1)\n",
    "print(x)"
   ]
  },
  {
   "cell_type": "code",
   "execution_count": 4,
   "metadata": {},
   "outputs": [
    {
     "name": "stdout",
     "output_type": "stream",
     "text": [
      "q1-3\n",
      "[[-1.4393227   0.10893212 -0.02877966  0.34425901 -0.01989261  0.6541101 ]\n",
      " [ 0.9737709  -1.87746134 -0.29620171 -0.08147097 -0.16050659  0.04604445]]\n"
     ]
    }
   ],
   "source": [
    "print ('q1-3')\n",
    "B = A.reshape(2,6)\n",
    "print(B)"
   ]
  },
  {
   "cell_type": "code",
   "execution_count": 6,
   "metadata": {},
   "outputs": [
    {
     "name": "stdout",
     "output_type": "stream",
     "text": [
      "q1-4\n",
      "[[-0.07588719  1.47236763  1.33465585]\n",
      " [ 1.26605826  0.90190665  1.57590935]\n",
      " [ 0.58539977 -2.26583247 -0.68457285]\n",
      " [-1.45737773 -1.53641335 -1.32986231]]\n"
     ]
    }
   ],
   "source": [
    "print ('q1-4')\n",
    "#Broadcasting\n",
    "C =A+x\n",
    "print(C)"
   ]
  },
  {
   "cell_type": "code",
   "execution_count": 8,
   "metadata": {},
   "outputs": [
    {
     "name": "stdout",
     "output_type": "stream",
     "text": [
      "q1-5\n",
      "[ 1.36343552  0.92179925 -0.38837113 -1.37590676]\n"
     ]
    }
   ],
   "source": [
    "print('q1-5')\n",
    "y =x.flatten() #\n",
    "print(y)"
   ]
  },
  {
   "cell_type": "code",
   "execution_count": 9,
   "metadata": {},
   "outputs": [
    {
     "name": "stdout",
     "output_type": "stream",
     "text": [
      "q1-6\n",
      "[[ 1.36343552  0.10893212 -0.02877966]\n",
      " [ 0.92179925 -0.01989261  0.6541101 ]\n",
      " [-0.38837113 -1.87746134 -0.29620171]\n",
      " [-1.37590676 -0.16050659  0.04604445]]\n"
     ]
    }
   ],
   "source": [
    "print ('q1-6')\n",
    "A[:,0] = np.transpose(y)\n",
    "print(A)"
   ]
  },
  {
   "cell_type": "code",
   "execution_count": 10,
   "metadata": {},
   "outputs": [
    {
     "name": "stdout",
     "output_type": "stream",
     "text": [
      "q1-7\n",
      "[[ 1.33465585  0.10893212 -0.02877966]\n",
      " [ 1.57590935 -0.01989261  0.6541101 ]\n",
      " [-0.68457285 -1.87746134 -0.29620171]\n",
      " [-1.32986231 -0.16050659  0.04604445]]\n"
     ]
    }
   ],
   "source": [
    "print ('q1-7')\n",
    "A[:,0] = A[:,2]+np.transpose(y)\n",
    "print(A)"
   ]
  },
  {
   "cell_type": "code",
   "execution_count": 11,
   "metadata": {},
   "outputs": [
    {
     "name": "stdout",
     "output_type": "stream",
     "text": [
      "q1-8\n",
      "[[ 1.33465585  0.10893212]\n",
      " [ 1.57590935 -0.01989261]\n",
      " [-0.68457285 -1.87746134]\n",
      " [-1.32986231 -0.16050659]]\n"
     ]
    }
   ],
   "source": [
    "print ('q1-8')\n",
    "\n",
    "print(A[:,0:2])"
   ]
  },
  {
   "cell_type": "code",
   "execution_count": 15,
   "metadata": {},
   "outputs": [
    {
     "name": "stdout",
     "output_type": "stream",
     "text": [
      "q1-9\n",
      "[[ 1.33465585  0.10893212 -0.02877966]\n",
      " [-0.68457285 -1.87746134 -0.29620171]]\n"
     ]
    }
   ],
   "source": [
    "print ('q1-9')\n",
    "\n",
    "print(A[[0,2],:])"
   ]
  },
  {
   "cell_type": "code",
   "execution_count": 20,
   "metadata": {},
   "outputs": [
    {
     "name": "stdout",
     "output_type": "stream",
     "text": [
      "q1-10\n",
      "[ 0.89613005 -1.94892842  0.37517317]\n"
     ]
    }
   ],
   "source": [
    "print ('q1-10')\n",
    "s = A.sum(axis=0)\n",
    "print(s)"
   ]
  },
  {
   "cell_type": "code",
   "execution_count": 21,
   "metadata": {},
   "outputs": [
    {
     "name": "stdout",
     "output_type": "stream",
     "text": [
      "q1-11\n",
      "[ 1.33465585  1.57590935 -0.29620171  0.04604445]\n"
     ]
    }
   ],
   "source": [
    "print ('q1-11')\n",
    "m = A.max(axis=1)\n",
    "print(m)"
   ]
  },
  {
   "cell_type": "code",
   "execution_count": 22,
   "metadata": {},
   "outputs": [
    {
     "name": "stdout",
     "output_type": "stream",
     "text": [
      "q1-12\n",
      "-0.05646876712204662\n"
     ]
    }
   ],
   "source": [
    "print ('q1-12')\n",
    "m = np.sum(A)/(A.shape[0]*A.shape[1])\n",
    "print(m)"
   ]
  },
  {
   "cell_type": "code",
   "execution_count": 25,
   "metadata": {},
   "outputs": [
    {
     "name": "stdout",
     "output_type": "stream",
     "text": [
      "q1-13\n",
      "[[ 0.57734694 -4.4340607  -7.09617272]\n",
      " [ 0.90966494 -7.83481433 -0.8489592 ]\n",
      " [-0.75792043  1.25984102 -2.43342919]\n",
      " [ 0.57015082 -3.6588405  -6.15629623]]\n"
     ]
    }
   ],
   "source": [
    "print ('q1-13')\n",
    "L = np.log(np.square(A))\n",
    "print(L)"
   ]
  },
  {
   "cell_type": "code",
   "execution_count": 26,
   "metadata": {},
   "outputs": [
    {
     "name": "stdout",
     "output_type": "stream",
     "text": [
      "q1-14\n",
      "[[5.36802412]\n",
      " [1.08017883]\n",
      " [0.61540232]]\n"
     ]
    }
   ],
   "source": [
    "print ('q1-14')\n",
    "t = np.matmul( A.transpose(),x)\n",
    "print(t)"
   ]
  },
  {
   "cell_type": "code",
   "execution_count": null,
   "metadata": {},
   "outputs": [],
   "source": []
  }
 ],
 "metadata": {
  "kernelspec": {
   "display_name": "Python 3",
   "language": "python",
   "name": "python3"
  },
  "language_info": {
   "codemirror_mode": {
    "name": "ipython",
    "version": 3
   },
   "file_extension": ".py",
   "mimetype": "text/x-python",
   "name": "python",
   "nbconvert_exporter": "python",
   "pygments_lexer": "ipython3",
   "version": "3.6.5"
  }
 },
 "nbformat": 4,
 "nbformat_minor": 2
}
